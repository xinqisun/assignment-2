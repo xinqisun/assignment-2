{
  "nbformat": 4,
  "nbformat_minor": 0,
  "metadata": {
    "colab": {
      "name": "assignment 2.ipynb",
      "provenance": [],
      "include_colab_link": true
    },
    "kernelspec": {
      "display_name": "Python 3",
      "language": "python",
      "name": "python3"
    },
    "language_info": {
      "codemirror_mode": {
        "name": "ipython",
        "version": 3
      },
      "file_extension": ".py",
      "mimetype": "text/x-python",
      "name": "python",
      "nbconvert_exporter": "python",
      "pygments_lexer": "ipython3",
      "version": "3.6.3"
    }
  },
  "cells": [
    {
      "cell_type": "markdown",
      "metadata": {
        "id": "view-in-github",
        "colab_type": "text"
      },
      "source": [
        "<a href=\"https://colab.research.google.com/github/xinqisun/assignment-2/blob/master/assignment_2.ipynb\" target=\"_parent\"><img src=\"https://colab.research.google.com/assets/colab-badge.svg\" alt=\"Open In Colab\"/></a>"
      ]
    },
    {
      "cell_type": "markdown",
      "metadata": {
        "id": "bjevL75YHA53",
        "colab_type": "text"
      },
      "source": [
        "# Assignment 2 \n",
        " **Xinqi Sun 12792267** \n",
        "\n",
        "*   github: https://github.com/xinqisun/assignment-2\n",
        "\n",
        "*   youtube: https://youtu.be/36IGsMfDuSs\n",
        "\n",
        "\n",
        "\n"
      ]
    },
    {
      "cell_type": "markdown",
      "metadata": {
        "id": "edBvKjRmHW3T",
        "colab_type": "text"
      },
      "source": [
        "\n",
        "\n",
        "1.   **Introduction**\n",
        "\n",
        "The algorithm should be of a similar level of sophistication as the ID3 decision tree building algorithm. Machine learning stems from artificial intelligence and statistics. After two decades of active and calm periods, the first International Forum on Machine Learning, held in 1980, marked the full recovery of machine learning. Machine learning has begun to affect all walks of life in civil society, such as self-driving in the consumer sector. The data was extracted from the US 1994 Census database and can be used to predict whether household income exceeds 50K/year. The data set class variable is whether the annual income exceeds 50k$. The attribute variable contains important information such as age, job type, education, occupation, and ethnicity. It is worth mentioning that there are 7 category variables among the 14 attribute variables.\n",
        "\n",
        "\n",
        "\n"
      ]
    },
    {
      "cell_type": "markdown",
      "metadata": {
        "id": "7mhc6BKoIHaC",
        "colab_type": "text"
      },
      "source": [
        "\n",
        "2.**Exploration**\n",
        "\n",
        "The data set characteristics are multivariate. It contains 48,842 instances. Data is from American society. The data types are categorical and integer. There are 14 attributes in total. And it contains missing values. The following picture shows our EDA analysis of the data."
      ]
    },
    {
      "cell_type": "code",
      "metadata": {
        "colab_type": "code",
        "id": "OEzZQgpZF5_Z",
        "outputId": "1fa30e78-5e81-4463-b9b4-646c73fe89b6",
        "colab": {
          "base_uri": "https://localhost:8080/",
          "height": 281
        }
      },
      "source": [
        "from sklearn import datasets,model_selection\n",
        "from sklearn.preprocessing import LabelEncoder\n",
        "import pandas as  pd\n",
        "import matplotlib.pyplot as plt\n",
        "adult_train=pd.read_csv('adult.csv',header=None, na_values=' ?')\n",
        "adult_test=pd.read_csv('adulttest.csv',header=None, na_values=' ?')\n",
        "Names = ['age', 'workclass', 'fnlwgt', 'education', 'education-num', 'marital-status', 'occupation',\n",
        "        'relationship', 'race', 'sex', 'capital-gain', 'capital-loss', 'hours-per-week',\n",
        "         'native-country', 'income']\n",
        "adult_test.columns = Names\n",
        "adult_train.columns = Names\n",
        "\n",
        "\n",
        "adult_train['age'].hist()\n",
        "plt.title('age')\n",
        "plt.show()"
      ],
      "execution_count": 0,
      "outputs": [
        {
          "output_type": "display_data",
          "data": {
            "image/png": "[encoded data removed]",
            "text/plain": [
              "<Figure size 432x288 with 1 Axes>"
            ]
          },
          "metadata": {
            "tags": []
          }
        }
      ]
    },
    {
      "cell_type": "markdown",
      "metadata": {
        "id": "tUM6jtKAI97V",
        "colab_type": "text"
      },
      "source": [
        "We plan to use a variety of machine learning models to fit the data. Such as ID3 decision Tree, KNN, and random forest algorithms, etc.\n",
        "The main algorithm of symbolism is the Decision Tree. As a kind of method that imitates the human brain to deal with decision-making problems in daily life, the decision tree has a binary tree structure like the two classification tasks such as “whether” or “good or bad”. In the process of getting the conclusion of the problem, that is, the final decision, all the accumulation of the judgments of the sub-decisions of each feature in the data makes the scope of the solution shrink. Generally speaking, a complete decision tree consists of a root node containing data and feature ensembles, several process nodes that represent feature decisions, and corresponding leaf nodes that represent decision results. Among them, one of the core problems in decision tree learning is feature partitioning. Three classical partitioning methods form three representative algorithms for decision trees: ID3, C4.5, and CART. The ID3 algorithm is a greedy algorithm proposed by J. Ross Quinlan in 1975 to construct a decision tree. It is based on the \"Occam razor\", that is, the smaller the decision tree, the better the decision tree. According to the feature selection and the information gain evaluation in the ID3 algorithm, the feature with the largest information gain is selected as the branching criterion each time. ID3 algorithm can segment nominal data sets without pruning. To eliminate excessive data matching, adjacent leaf nodes that do not generate a large amount of information gain can be merged (for example, by setting an information gain threshold). One disadvantage of using information gain is that it favors properties with a large number of values -- that is, in a training set, the more a property accepts a different value, the more likely it is to use it as a segmentation property. Sometimes it makes no sense. In addition, ID3 cannot handle continuously distributed data characteristics.\n"
      ]
    },
    {
      "cell_type": "code",
      "metadata": {
        "id": "zjeCB5ERGdxQ",
        "colab_type": "code",
        "colab": {}
      },
      "source": [
        "adult_train['workclass'].hist()\n",
        "plt.xticks(rotation=60)\n",
        "plt.title('workclass')\n",
        "plt.show()"
      ],
      "execution_count": 0,
      "outputs": []
    },
    {
      "cell_type": "markdown",
      "metadata": {
        "id": "RS-qVK0HJEy6",
        "colab_type": "text"
      },
      "source": [
        "This ID3 algorithm can be to sum up as follows: Using all unused features and calculate the sample entropy associated with it. Attributes with the smallest entropy will be left behind. Generating a node with this attribute.\n",
        "The KNN algorithm is a famous artificial intelligence statistical learning algorithm, which accounts for a large proportion in machine learning, which is one of the simplest machine learning algorithms simultaneously. The K Nearest Neighbor algorithm, also known as the KNN algorithm, is a classic distance classifier algorithm in machine learning.\n",
        "\n",
        "![](https://github.com/xinqisun/Miki/blob/master/1png.png?raw=true)\n"
      ]
    },
    {
      "cell_type": "code",
      "metadata": {
        "id": "Vs1u-6v0Gdxd",
        "colab_type": "code",
        "colab": {}
      },
      "source": [
        "adult_train['education'].hist()\n",
        "plt.xticks(rotation=60)\n",
        "plt.title('education')\n",
        "plt.show()"
      ],
      "execution_count": 0,
      "outputs": []
    },
    {
      "cell_type": "markdown",
      "metadata": {
        "id": "BmtwAF-IJXmZ",
        "colab_type": "text"
      },
      "source": [
        "There are supervised learning methods and unsupervised learning methods in machine learning field according to different training samples. Supervised learning, also known as teacher learning, requires knowledge of which category each sample in the training sample set belongs to; unsupervised learning, also known as non-teacher learning, only knows each training sample in the training sample set, I don't know the category to which each training sample belongs, and even in some cases the number of categories is unknown. Distance classifiers are the primary method in supervised learning methods that rely primarily on the distance (or degree of similarity) between patterns to construct classifiers, sometimes referred to as \"template matching.\" The distance classifier is characterized by simple algorithm and high efficiency of classifier learning and recognition. It is still one of the main methods to solve the identification problem, especially the application scenarios where the number of certain categories is relatively large and the recognition speed is relatively fast.\n",
        "\n",
        "![](https://github.com/xinqisun/Miki/blob/master/2.png?raw=true)"
      ]
    },
    {
      "cell_type": "code",
      "metadata": {
        "id": "5zrtAemTGdxm",
        "colab_type": "code",
        "outputId": "cfcf6666-3100-4794-f60a-7b4236cb45d5",
        "colab": {}
      },
      "source": [
        "adult_train['marital-status'].hist()\n",
        "plt.xticks(rotation=60)\n",
        "plt.title('marital-status')\n",
        "plt.show()"
      ],
      "execution_count": 0,
      "outputs": [
        {
          "output_type": "display_data",
          "data": {
            "image/png": "[encoded data removed]",
            "text/plain": [
              "<Figure size 432x288 with 1 Axes>"
            ]
          },
          "metadata": {
            "tags": []
          }
        }
      ]
    },
    {
      "cell_type": "markdown",
      "metadata": {
        "id": "P1c56aKAJggW",
        "colab_type": "text"
      },
      "source": [
        "The representative of unsupervised learning is the cluster analysis method. These methods still use the distance to measure the similarity between the patterns, and then divide the different subsets according to the similarity of the samples in the unsupervised sample set to achieve unsupervised samples. Clustering.\n",
        "Random forest is an integrated algorithm (integrated learning), belonging to the bag type. By combining several weak classifiers and voting or averaging the final results, the results of the whole model have higher accuracy and generalization performance. It achieved satisfactory results mainly because of \"randomness\" and \"forest\", which made it resist overfitting and which made it more accurate. \n",
        "Bagging, also known as bootstrap aggregating, is an integrated technique for training classifiers by re-selecting k new data sets on the original dataset. It uses the set of trained classifiers to classify the new samples, and then uses the majority vote or the mean of the output to count the classification results of all classifiers. The highest category is the final tag. Such algorithms can effectively reduce bias and reduce variance. Random Forest (RF) is a Bagging algorithm. In fact, after the introduction of the Bagging algorithm, the random forest is almost ready. RF is just some details about the details.\n"
      ]
    },
    {
      "cell_type": "code",
      "metadata": {
        "id": "zMnjCIWRGdxu",
        "colab_type": "code",
        "colab": {}
      },
      "source": [
        "adult_train['education-num'].hist()\n",
        "plt.xticks(rotation=60)\n",
        "plt.title('education-num')\n",
        "plt.show()"
      ],
      "execution_count": 0,
      "outputs": []
    },
    {
      "cell_type": "code",
      "metadata": {
        "id": "ZOG_D8CJGdxx",
        "colab_type": "code",
        "outputId": "55763a0d-3774-4bb9-ced3-3d1a42edfeee",
        "colab": {}
      },
      "source": [
        "\n",
        "adult_train.plot(kind='box')\n",
        "plt.show()"
      ],
      "execution_count": 0,
      "outputs": [
        {
          "output_type": "display_data",
          "data": {
            "image/png": "[encoded data removed]",
            "text/plain": [
              "<Figure size 432x288 with 1 Axes>"
            ]
          },
          "metadata": {
            "tags": []
          }
        }
      ]
    },
    {
      "cell_type": "code",
      "metadata": {
        "id": "kE3MrjfIGdx2",
        "colab_type": "code",
        "colab": {}
      },
      "source": [
        "adult_train['age_set'] = pd.cut(adult_train['age'], bins=4, labels=['Teenager', 'young man', 'elder', 'old man'])"
      ],
      "execution_count": 0,
      "outputs": []
    },
    {
      "cell_type": "code",
      "metadata": {
        "id": "aSbxSlsyGdyC",
        "colab_type": "code",
        "outputId": "26c1135a-8bf0-4738-b4c1-a52d5eaa1921",
        "colab": {}
      },
      "source": [
        "adult_train_good = adult_train.drop(['fnlwgt','hours-per-week','capital-gain','capital-loss'],axis=1)\n",
        "print(adult_train_good.columns)"
      ],
      "execution_count": 0,
      "outputs": [
        {
          "output_type": "stream",
          "text": [
            "Index(['age', 'workclass', 'education', 'education-num', 'marital-status',\n",
            "       'occupation', 'relationship', 'race', 'sex', 'native-country', 'income',\n",
            "       'age_set'],\n",
            "      dtype='object')\n"
          ],
          "name": "stdout"
        }
      ]
    },
    {
      "cell_type": "code",
      "metadata": {
        "id": "W4v4pm-aGdyI",
        "colab_type": "code",
        "outputId": "adf38952-ddc6-4942-b7ed-21c2851fc8fd",
        "colab": {}
      },
      "source": [
        "print(adult_train_good.isnull().sum()/adult_train_good.shape[0])\n"
      ],
      "execution_count": 0,
      "outputs": [
        {
          "output_type": "stream",
          "text": [
            "age               0.000000\n",
            "workclass         0.056386\n",
            "education         0.000000\n",
            "education-num     0.000000\n",
            "marital-status    0.000000\n",
            "occupation        0.056601\n",
            "relationship      0.000000\n",
            "race              0.000000\n",
            "sex               0.000000\n",
            "native-country    0.017905\n",
            "income            0.000000\n",
            "age_set           0.000000\n",
            "dtype: float64\n"
          ],
          "name": "stdout"
        }
      ]
    },
    {
      "cell_type": "code",
      "metadata": {
        "id": "3pQCYxN0GdyO",
        "colab_type": "code",
        "outputId": "f011f5c6-06cb-43e1-c36e-07e2eb4f2b9a",
        "colab": {}
      },
      "source": [
        "X_train = adult_train_good.drop(['income','age'], axis=1)\n",
        "Y_train = adult_train_good['income']\n",
        "X_train = pd.get_dummies(X_train, prefix_sep=':', columns=['workclass', 'education', 'education-num',\n",
        "                                                                 'marital-status', 'occupation','race',\n",
        "                                                                 'relationship', 'sex', 'native-country'\n",
        "                                                           ,'age_set'], dummy_na=True)\n",
        "X_train.head()"
      ],
      "execution_count": 0,
      "outputs": [
        {
          "output_type": "execute_result",
          "data": {
            "text/html": [
              "<div>\n",
              "<style>\n",
              "    .dataframe thead tr:only-child th {\n",
              "        text-align: right;\n",
              "    }\n",
              "\n",
              "    .dataframe thead th {\n",
              "        text-align: left;\n",
              "    }\n",
              "\n",
              "    .dataframe tbody tr th {\n",
              "        vertical-align: top;\n",
              "    }\n",
              "</style>\n",
              "<table border=\"1\" class=\"dataframe\">\n",
              "  <thead>\n",
              "    <tr style=\"text-align: right;\">\n",
              "      <th></th>\n",
              "      <th>workclass: Federal-gov</th>\n",
              "      <th>workclass: Local-gov</th>\n",
              "      <th>workclass: Never-worked</th>\n",
              "      <th>workclass: Private</th>\n",
              "      <th>workclass: Self-emp-inc</th>\n",
              "      <th>workclass: Self-emp-not-inc</th>\n",
              "      <th>workclass: State-gov</th>\n",
              "      <th>workclass: Without-pay</th>\n",
              "      <th>workclass:nan</th>\n",
              "      <th>education: 10th</th>\n",
              "      <th>...</th>\n",
              "      <th>native-country: Trinadad&amp;Tobago</th>\n",
              "      <th>native-country: United-States</th>\n",
              "      <th>native-country: Vietnam</th>\n",
              "      <th>native-country: Yugoslavia</th>\n",
              "      <th>native-country:nan</th>\n",
              "      <th>age_set:Teenager</th>\n",
              "      <th>age_set:young man</th>\n",
              "      <th>age_set:elder</th>\n",
              "      <th>age_set:old man</th>\n",
              "      <th>age_set:nan</th>\n",
              "    </tr>\n",
              "  </thead>\n",
              "  <tbody>\n",
              "    <tr>\n",
              "      <th>0</th>\n",
              "      <td>0</td>\n",
              "      <td>0</td>\n",
              "      <td>0</td>\n",
              "      <td>0</td>\n",
              "      <td>0</td>\n",
              "      <td>0</td>\n",
              "      <td>1</td>\n",
              "      <td>0</td>\n",
              "      <td>0</td>\n",
              "      <td>0</td>\n",
              "      <td>...</td>\n",
              "      <td>0</td>\n",
              "      <td>1</td>\n",
              "      <td>0</td>\n",
              "      <td>0</td>\n",
              "      <td>0</td>\n",
              "      <td>0</td>\n",
              "      <td>1</td>\n",
              "      <td>0</td>\n",
              "      <td>0</td>\n",
              "      <td>0</td>\n",
              "    </tr>\n",
              "    <tr>\n",
              "      <th>1</th>\n",
              "      <td>0</td>\n",
              "      <td>0</td>\n",
              "      <td>0</td>\n",
              "      <td>0</td>\n",
              "      <td>0</td>\n",
              "      <td>1</td>\n",
              "      <td>0</td>\n",
              "      <td>0</td>\n",
              "      <td>0</td>\n",
              "      <td>0</td>\n",
              "      <td>...</td>\n",
              "      <td>0</td>\n",
              "      <td>1</td>\n",
              "      <td>0</td>\n",
              "      <td>0</td>\n",
              "      <td>0</td>\n",
              "      <td>0</td>\n",
              "      <td>1</td>\n",
              "      <td>0</td>\n",
              "      <td>0</td>\n",
              "      <td>0</td>\n",
              "    </tr>\n",
              "    <tr>\n",
              "      <th>2</th>\n",
              "      <td>0</td>\n",
              "      <td>0</td>\n",
              "      <td>0</td>\n",
              "      <td>1</td>\n",
              "      <td>0</td>\n",
              "      <td>0</td>\n",
              "      <td>0</td>\n",
              "      <td>0</td>\n",
              "      <td>0</td>\n",
              "      <td>0</td>\n",
              "      <td>...</td>\n",
              "      <td>0</td>\n",
              "      <td>1</td>\n",
              "      <td>0</td>\n",
              "      <td>0</td>\n",
              "      <td>0</td>\n",
              "      <td>0</td>\n",
              "      <td>1</td>\n",
              "      <td>0</td>\n",
              "      <td>0</td>\n",
              "      <td>0</td>\n",
              "    </tr>\n",
              "    <tr>\n",
              "      <th>3</th>\n",
              "      <td>0</td>\n",
              "      <td>0</td>\n",
              "      <td>0</td>\n",
              "      <td>1</td>\n",
              "      <td>0</td>\n",
              "      <td>0</td>\n",
              "      <td>0</td>\n",
              "      <td>0</td>\n",
              "      <td>0</td>\n",
              "      <td>0</td>\n",
              "      <td>...</td>\n",
              "      <td>0</td>\n",
              "      <td>1</td>\n",
              "      <td>0</td>\n",
              "      <td>0</td>\n",
              "      <td>0</td>\n",
              "      <td>0</td>\n",
              "      <td>1</td>\n",
              "      <td>0</td>\n",
              "      <td>0</td>\n",
              "      <td>0</td>\n",
              "    </tr>\n",
              "    <tr>\n",
              "      <th>4</th>\n",
              "      <td>0</td>\n",
              "      <td>0</td>\n",
              "      <td>0</td>\n",
              "      <td>1</td>\n",
              "      <td>0</td>\n",
              "      <td>0</td>\n",
              "      <td>0</td>\n",
              "      <td>0</td>\n",
              "      <td>0</td>\n",
              "      <td>0</td>\n",
              "      <td>...</td>\n",
              "      <td>0</td>\n",
              "      <td>0</td>\n",
              "      <td>0</td>\n",
              "      <td>0</td>\n",
              "      <td>0</td>\n",
              "      <td>1</td>\n",
              "      <td>0</td>\n",
              "      <td>0</td>\n",
              "      <td>0</td>\n",
              "      <td>0</td>\n",
              "    </tr>\n",
              "  </tbody>\n",
              "</table>\n",
              "<p>5 rows × 129 columns</p>\n",
              "</div>"
            ],
            "text/plain": [
              "   workclass: Federal-gov  workclass: Local-gov  workclass: Never-worked  \\\n",
              "0                       0                     0                        0   \n",
              "1                       0                     0                        0   \n",
              "2                       0                     0                        0   \n",
              "3                       0                     0                        0   \n",
              "4                       0                     0                        0   \n",
              "\n",
              "   workclass: Private  workclass: Self-emp-inc  workclass: Self-emp-not-inc  \\\n",
              "0                   0                        0                            0   \n",
              "1                   0                        0                            1   \n",
              "2                   1                        0                            0   \n",
              "3                   1                        0                            0   \n",
              "4                   1                        0                            0   \n",
              "\n",
              "   workclass: State-gov  workclass: Without-pay  workclass:nan  \\\n",
              "0                     1                       0              0   \n",
              "1                     0                       0              0   \n",
              "2                     0                       0              0   \n",
              "3                     0                       0              0   \n",
              "4                     0                       0              0   \n",
              "\n",
              "   education: 10th     ...       native-country: Trinadad&Tobago  \\\n",
              "0                0     ...                                     0   \n",
              "1                0     ...                                     0   \n",
              "2                0     ...                                     0   \n",
              "3                0     ...                                     0   \n",
              "4                0     ...                                     0   \n",
              "\n",
              "   native-country: United-States  native-country: Vietnam  \\\n",
              "0                              1                        0   \n",
              "1                              1                        0   \n",
              "2                              1                        0   \n",
              "3                              1                        0   \n",
              "4                              0                        0   \n",
              "\n",
              "   native-country: Yugoslavia  native-country:nan  age_set:Teenager  \\\n",
              "0                           0                   0                 0   \n",
              "1                           0                   0                 0   \n",
              "2                           0                   0                 0   \n",
              "3                           0                   0                 0   \n",
              "4                           0                   0                 1   \n",
              "\n",
              "   age_set:young man  age_set:elder  age_set:old man  age_set:nan  \n",
              "0                  1              0                0            0  \n",
              "1                  1              0                0            0  \n",
              "2                  1              0                0            0  \n",
              "3                  1              0                0            0  \n",
              "4                  0              0                0            0  \n",
              "\n",
              "[5 rows x 129 columns]"
            ]
          },
          "metadata": {
            "tags": []
          },
          "execution_count": 15
        }
      ]
    },
    {
      "cell_type": "markdown",
      "metadata": {
        "id": "9pb0j4e8JiVw",
        "colab_type": "text"
      },
      "source": [
        "3.   **Methodology**\n",
        "\n",
        "We first use several pre-designed machine learning models to fit the data. And divide the age into 4 parts according to 'Teenager', 'young man', 'elder', 'old man'. Then we use the train_test_split in sklearn.model_selection to separate the training set from the test set. Because the dataset contains data of many category types, we use LabelEncoder in sklearn.preprocessing to convert categorical data into numeric data and increase the data dimension. \n"
      ]
    },
    {
      "cell_type": "code",
      "metadata": {
        "id": "CfznNkv4GdyX",
        "colab_type": "code",
        "outputId": "7aafabb5-9843-4510-af0a-c7f553c75be3",
        "colab": {}
      },
      "source": [
        "from sklearn.model_selection import train_test_split\n",
        "X = X_train\n",
        "y = Y_train\n",
        "\n",
        "X_train, X_test, y_train, y_test = train_test_split(X_train,Y_train, test_size=0.2, random_state=12345)\n",
        "from sklearn.preprocessing import StandardScaler\n",
        "Standard = StandardScaler().fit(X_train)            \n",
        "\n",
        "Xtrain = Standard.transform(X_train)                 \n",
        "Xtest = Standard.transform(X_test)                   \n",
        "\n",
        "\n",
        "from sklearn.neighbors import KNeighborsClassifier\n",
        "clf = KNeighborsClassifier().fit(X_train, y_train)\n",
        "y_pred = clf.predict(Xtest)\n",
        "\n",
        "\n",
        "from sklearn.metrics import classification_report, auc\n",
        "print(classification_report(y_test, y_pred))"
      ],
      "execution_count": 0,
      "outputs": [
        {
          "output_type": "stream",
          "text": [
            "             precision    recall  f1-score   support\n",
            "\n",
            "          0       0.87      0.91      0.89      4956\n",
            "          1       0.66      0.55      0.60      1557\n",
            "\n",
            "avg / total       0.82      0.82      0.82      6513\n",
            "\n"
          ],
          "name": "stdout"
        }
      ]
    },
    {
      "cell_type": "markdown",
      "metadata": {
        "id": "hKd1HVohKJTb",
        "colab_type": "text"
      },
      "source": [
        "4. **Evaluation** \n",
        "\n",
        "Finally, we get the results of the data on each model and the training test curve. The following figure shows the training test score chart of the ID3 algorithm."
      ]
    },
    {
      "cell_type": "code",
      "metadata": {
        "colab_type": "code",
        "id": "vV9mnu5aGKpY",
        "colab": {}
      },
      "source": [
        "#ID3\n",
        "maxdepth = 40\n",
        "import numpy as np\n",
        "from sklearn import tree\n",
        "       #Dividing datasets\n",
        "depths=np.arange(1,maxdepth)\n",
        "training_scores=[]\n",
        "testing_scores=[]\n",
        "for depth in depths:     #Decision trees at different depths\n",
        "    clf = tree.DecisionTreeClassifier(max_depth=depth)      #define Decision trees \n",
        "    clf.fit(X_train, y_train)      #fit the model\n",
        "    training_scores.append(clf.score(X_train,y_train))       #get the train score\n",
        "    testing_scores.append(clf.score(X_test,y_test))     #get the test score"
      ],
      "execution_count": 0,
      "outputs": []
    },
    {
      "cell_type": "code",
      "metadata": {
        "colab_type": "code",
        "id": "3kiGKC_DGdEY",
        "outputId": "c9a4ccb0-f44e-402d-8b83-48fd1a09929d",
        "colab": {
          "base_uri": "https://localhost:8080/",
          "height": 295
        }
      },
      "source": [
        "import matplotlib.pyplot as plt        #draw the trainning process\n",
        "fig=plt.figure()\n",
        "ax=fig.add_subplot(1,1,1)\n",
        "ax.plot(depths,training_scores,label=\"traing score\",marker='o')\n",
        "ax.plot(depths,testing_scores,label=\"testing score\",marker='*')\n",
        "ax.set_xlabel(\"maxdepth\")\n",
        "ax.set_ylabel(\"score\")\n",
        "ax.set_title(\"Decision Tree Classification\")\n",
        "ax.legend(framealpha=0.5,loc='best')\n",
        "plt.show()"
      ],
      "execution_count": 0,
      "outputs": [
        {
          "output_type": "display_data",
          "data": {
            "image/png": "[encoded data removed]",
            "text/plain": [
              "<Figure size 432x288 with 1 Axes>"
            ]
          },
          "metadata": {
            "tags": []
          }
        }
      ]
    },
    {
      "cell_type": "code",
      "metadata": {
        "colab_type": "code",
        "id": "BJOtigUIGtKl",
        "outputId": "9046093b-4bc2-4e55-8534-91d135f9e452",
        "colab": {}
      },
      "source": [
        "from sklearn.neighbors import KNeighborsClassifier\n",
        "from sklearn.preprocessing import StandardScaler\n",
        "ss = StandardScaler()\n",
        "X_train = ss.fit_transform(X_train)\n",
        "X_test = ss.transform(X_test)\n",
        " \n",
        "# Use the K Near Neighbor Classer to make a category prediction of the test data, and the prediction results are stored in the variable y-predict.\n",
        "knc = KNeighborsClassifier()\n",
        "knc.fit(X_train, y_train)\n",
        "y_predict = knc.predict(X_test)\n",
        "print ('The accuracy of K-Nearest Neighbor Classifier is', knc.score(X_test, y_test))\n",
        "\n",
        "from sklearn.metrics import classification_report\n",
        "print(classification_report(y_test, y_predict, target_names=iris.target_names))"
      ],
      "execution_count": 0,
      "outputs": [
        {
          "output_type": "stream",
          "text": [
            "The accuracy of K-Nearest Neighbor Classifier is 0.9736842105263158\n",
            "             precision    recall  f1-score   support\n",
            "\n",
            "     setosa       1.00      1.00      1.00        13\n",
            " versicolor       0.93      1.00      0.96        13\n",
            "  virginica       1.00      0.92      0.96        12\n",
            "\n",
            "avg / total       0.98      0.97      0.97        38\n",
            "\n"
          ],
          "name": "stdout"
        }
      ]
    },
    {
      "cell_type": "code",
      "metadata": {
        "id": "kzMY2fQhGdyn",
        "colab_type": "code",
        "outputId": "065ce600-939b-477e-a6da-4eb7e0b43aa0",
        "colab": {}
      },
      "source": [
        "#Random forest\n",
        "\n",
        "from sklearn.ensemble import RandomForestClassifier\n",
        "model = RandomForestClassifier(criterion='entropy')\n",
        "model.fit(X_train,y_train)\n",
        "y_predict = model.predict(X_test)\n",
        "print ('The accuracy of Random forest Classifier is', model.score(X_test, y_test))\n",
        "\n",
        "from sklearn.metrics import classification_report\n",
        "print(classification_report(y_test, y_predict))"
      ],
      "execution_count": 0,
      "outputs": [
        {
          "output_type": "stream",
          "text": [
            "The accuracy of Random forest Classifier is 0.8261937663135268\n",
            "             precision    recall  f1-score   support\n",
            "\n",
            "          0       0.87      0.90      0.89      4956\n",
            "          1       0.65      0.58      0.61      1557\n",
            "\n",
            "avg / total       0.82      0.83      0.82      6513\n",
            "\n"
          ],
          "name": "stdout"
        }
      ]
    },
    {
      "cell_type": "code",
      "metadata": {
        "id": "QCjJaWPkGdyr",
        "colab_type": "code",
        "colab": {}
      },
      "source": [
        ""
      ],
      "execution_count": 0,
      "outputs": []
    },
    {
      "cell_type": "markdown",
      "metadata": {
        "id": "_IMPS_OhKa6r",
        "colab_type": "text"
      },
      "source": [
        "5. **Conclusion**\n",
        "\n",
        "From the above experimental data, we can see that the random forest has many shortcomings. Due to the increased disturbance of the attributes, the performance of the base learner in the random forest is reduced, which makes the performance of the random forest at the beginning poor, but with the base learner Increased, random forests usually converge to lower generalization errors, compared to Bagging. It is sensitive to the number of attributes considered for each partition. The random forest approach has proven to be very good for large data sets and items that have large and sometimes unrelated features. It is easy to overfit when the noise is large. Of course, random forests have many advantages. Reduce over-fitting: the introduction of two randomness makes it difficult for random forest to fall into over-fitting and has good anti-noise ability. Since only a few attributes are considered in each partition, it may be faster than Bagging and Boosting, so they are very effective on large databases. So compared to Bagging, the computational cost is smaller and the training efficiency is higher. Data preprocessing: adaptability to data, can handle discrete and continuous, no need to standardize. Missing value processing: There are good ways to fill in missing values and still maintain high accuracy even if a large portion of the data is missing. An intrinsic estimate of the importance of the variable is given, which balances the error for unbalanced sample classification. Can calculate the intimacy of each instance, useful for data mining, detecting outliers, and data visualization.\n",
        "Of course, the KNN model also has many shortcomings. The computational complexity of the classification is proportional to the total number of samples in the training set. The algorithm itself is simple and effective, and the classifier does not need to use the training set for training. For points of unknown category, calculating its distance from points in the known category dataset \n",
        "Sort by distance\n",
        "Select the K points with the smallest distance from the current point\n",
        "Determine the probability of occurrence of the category of the first k points\n",
        "Returns the category with the highest frequency of the first k points as the current point prediction classification\n",
        "Significant shortcomings of the ID3 algorithm are below:\n",
        "Overfitting: Over-fitting problems are prone to occur, resulting in poor prediction of data outside the training set\n",
        "Ignore feature associations: Ignore the correlation of attributes in a dataset. When there are many intricate relationships between numerical variables, such as financial data analysis, it is not a good choice.\n",
        "Model sensitivity: The model is not robust enough, and small changes in one node may cause the entire tree to be very different.\n",
        "So as the old saying goes, the quality of the model depends to a large extent on the quality of the feature engineering. The feature engineering works well and the model fits the data better.\n",
        "\n",
        "\n"
      ]
    }
  ]
}